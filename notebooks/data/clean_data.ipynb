{
 "cells": [
  {
   "cell_type": "markdown",
   "metadata": {},
   "source": [
    "## Load clean data"
   ]
  },
  {
   "cell_type": "code",
   "execution_count": 1,
   "metadata": {},
   "outputs": [
    {
     "data": {
      "text/html": [
       "<div>\n",
       "<style scoped>\n",
       "    .dataframe tbody tr th:only-of-type {\n",
       "        vertical-align: middle;\n",
       "    }\n",
       "\n",
       "    .dataframe tbody tr th {\n",
       "        vertical-align: top;\n",
       "    }\n",
       "\n",
       "    .dataframe thead th {\n",
       "        text-align: right;\n",
       "    }\n",
       "</style>\n",
       "<table border=\"1\" class=\"dataframe\">\n",
       "  <thead>\n",
       "    <tr style=\"text-align: right;\">\n",
       "      <th></th>\n",
       "      <th>id</th>\n",
       "      <th>text</th>\n",
       "      <th>label</th>\n",
       "    </tr>\n",
       "  </thead>\n",
       "  <tbody>\n",
       "    <tr>\n",
       "      <th>0</th>\n",
       "      <td>5b133284a6da98dccdde5f03</td>\n",
       "      <td>\" High quality and perfection are the result o...</td>\n",
       "      <td>0</td>\n",
       "    </tr>\n",
       "    <tr>\n",
       "      <th>1</th>\n",
       "      <td>556d34fd7369641226dab000</td>\n",
       "      <td>\"BEST HAM IN THE WORLD\"​- IFFA International F...</td>\n",
       "      <td>0</td>\n",
       "    </tr>\n",
       "    <tr>\n",
       "      <th>2</th>\n",
       "      <td>5e57ea61d5bd4a000176bd7c</td>\n",
       "      <td>\"El mundo necesita gente como La Aguacatera, q...</td>\n",
       "      <td>0</td>\n",
       "    </tr>\n",
       "  </tbody>\n",
       "</table>\n",
       "</div>"
      ],
      "text/plain": [
       "                         id  \\\n",
       "0  5b133284a6da98dccdde5f03   \n",
       "1  556d34fd7369641226dab000   \n",
       "2  5e57ea61d5bd4a000176bd7c   \n",
       "\n",
       "                                                text  label  \n",
       "0  \" High quality and perfection are the result o...      0  \n",
       "1  \"BEST HAM IN THE WORLD\"​- IFFA International F...      0  \n",
       "2  \"El mundo necesita gente como La Aguacatera, q...      0  "
      ]
     },
     "execution_count": 1,
     "metadata": {},
     "output_type": "execute_result"
    }
   ],
   "source": [
    "import pandas as pd\n",
    "\n",
    "df = pd.read_csv(\"../../data/processed/clean.csv\")\n",
    "df.head(3)"
   ]
  },
  {
   "cell_type": "markdown",
   "metadata": {},
   "source": [
    "verify **text** is in string format, and print results"
   ]
  },
  {
   "cell_type": "code",
   "execution_count": 2,
   "metadata": {},
   "outputs": [
    {
     "name": "stdout",
     "output_type": "stream",
     "text": [
      "<class 'str'>\n",
      "\" High quality and perfection are the result of more than one hundred steps of craftsmanship, attention to detail and refined style are the components that determine the success of the brand.\n",
      "\n",
      "The history of the Barceló family begins with the production of espadrilles in 1960, thanks to the ingenuity and creativity of Manolo Barceló, master in the elaboration of handmade ropes and braids, tireless pursuer of perfection in his creations and elaborations begins with the production of espadrilles and rope platforms for the main international fashion brands.\n",
      "\n",
      "Cosí Cosí Footwear, SL, became the starting point for Manuel Barceló Martínez, son of the founder Manolo, who after years of lending his creative expertise to other designers, decided to go further and create his own line. And so, after more than four decades of experience, Paloma Barceló was born in 2002.\"  Lujo  Calzado diseno Diseño  lujo  Moda  moda  calzado\n"
     ]
    }
   ],
   "source": [
    "print(type(df['text'][0]))\n",
    "print(df['text'][0])"
   ]
  },
  {
   "cell_type": "markdown",
   "metadata": {},
   "source": [
    "## Load raw data"
   ]
  },
  {
   "cell_type": "code",
   "execution_count": 3,
   "metadata": {},
   "outputs": [],
   "source": [
    "raw_df = pd.read_csv(\"../../data/raw/internship_challenge - dataset.csv\")"
   ]
  },
  {
   "cell_type": "markdown",
   "metadata": {},
   "source": [
    "### compare **specialities_x** and **keywords** , ensuring that they were added to 'text'"
   ]
  },
  {
   "cell_type": "code",
   "execution_count": 4,
   "metadata": {},
   "outputs": [
    {
     "name": "stdout",
     "output_type": "stream",
     "text": [
      "Last sentence added to text: \"  Lujo  Calzado diseno Diseño  lujo  Moda  moda  calzado\n",
      "keywords column was : ['diseno', 'calzado', 'moda', 'lujo']\n",
      "specialities_x column was : Diseño, Calzado, Moda, and Lujo\n"
     ]
    }
   ],
   "source": [
    "keywords = raw_df['keywords'][0]\n",
    "specialities_x = raw_df['specialities_x'][0]\n",
    "\n",
    "print(f'Last sentence added to text: {df[\"text\"][0].split(\".\")[-1]}')\n",
    "print(f\"keywords column was : {keywords}\")\n",
    "print(f\"specialities_x column was : {specialities_x}\")"
   ]
  }
 ],
 "metadata": {
  "kernelspec": {
   "display_name": "venv",
   "language": "python",
   "name": "python3"
  },
  "language_info": {
   "codemirror_mode": {
    "name": "ipython",
    "version": 3
   },
   "file_extension": ".py",
   "mimetype": "text/x-python",
   "name": "python",
   "nbconvert_exporter": "python",
   "pygments_lexer": "ipython3",
   "version": "3.11.2"
  }
 },
 "nbformat": 4,
 "nbformat_minor": 2
}
