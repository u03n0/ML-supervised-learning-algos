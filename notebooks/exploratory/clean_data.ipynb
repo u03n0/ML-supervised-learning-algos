{
 "cells": [
  {
   "cell_type": "markdown",
   "metadata": {},
   "source": [
    "## Load clean data"
   ]
  },
  {
   "cell_type": "code",
   "execution_count": 14,
   "metadata": {},
   "outputs": [
    {
     "data": {
      "text/html": [
       "<div>\n",
       "<style scoped>\n",
       "    .dataframe tbody tr th:only-of-type {\n",
       "        vertical-align: middle;\n",
       "    }\n",
       "\n",
       "    .dataframe tbody tr th {\n",
       "        vertical-align: top;\n",
       "    }\n",
       "\n",
       "    .dataframe thead th {\n",
       "        text-align: right;\n",
       "    }\n",
       "</style>\n",
       "<table border=\"1\" class=\"dataframe\">\n",
       "  <thead>\n",
       "    <tr style=\"text-align: right;\">\n",
       "      <th></th>\n",
       "      <th>id</th>\n",
       "      <th>text</th>\n",
       "      <th>label</th>\n",
       "    </tr>\n",
       "  </thead>\n",
       "  <tbody>\n",
       "    <tr>\n",
       "      <th>0</th>\n",
       "      <td>5b133284a6da98dccdde5f03</td>\n",
       "      <td>high quality and perfection are the result of...</td>\n",
       "      <td>0</td>\n",
       "    </tr>\n",
       "    <tr>\n",
       "      <th>1</th>\n",
       "      <td>556d34fd7369641226dab000</td>\n",
       "      <td>best ham in the world​- iffa international fra...</td>\n",
       "      <td>0</td>\n",
       "    </tr>\n",
       "    <tr>\n",
       "      <th>2</th>\n",
       "      <td>5e57ea61d5bd4a000176bd7c</td>\n",
       "      <td>el mundo necesita gente como la aguacatera, qu...</td>\n",
       "      <td>0</td>\n",
       "    </tr>\n",
       "  </tbody>\n",
       "</table>\n",
       "</div>"
      ],
      "text/plain": [
       "                         id  \\\n",
       "0  5b133284a6da98dccdde5f03   \n",
       "1  556d34fd7369641226dab000   \n",
       "2  5e57ea61d5bd4a000176bd7c   \n",
       "\n",
       "                                                text  label  \n",
       "0   high quality and perfection are the result of...      0  \n",
       "1  best ham in the world​- iffa international fra...      0  \n",
       "2  el mundo necesita gente como la aguacatera, qu...      0  "
      ]
     },
     "execution_count": 14,
     "metadata": {},
     "output_type": "execute_result"
    }
   ],
   "source": [
    "import pandas as pd\n",
    "\n",
    "df = pd.read_csv(\"../../data/processed/clean.csv\")\n",
    "df.head(3)"
   ]
  },
  {
   "cell_type": "markdown",
   "metadata": {},
   "source": [
    "verify **text** is in string format, and print results"
   ]
  },
  {
   "cell_type": "code",
   "execution_count": 15,
   "metadata": {},
   "outputs": [
    {
     "name": "stdout",
     "output_type": "stream",
     "text": [
      "<class 'str'>\n",
      " high quality and perfection are the result of more than one hundred steps of craftsmanship, attention to detail and refined style are the components that determine the success of the brand.the history of the barceló family begins with the production of espadrilles in 1960, thanks to the ingenuity and creativity of manolo barceló, master in the elaboration of handmade ropes and braids, tireless pursuer of perfection in his creations and elaborations begins with the production of espadrilles and rope platforms for the main international fashion brands.cosí cosí footwear, sl, became the starting point for manuel barceló martínez, son of the founder manolo, who after years of lending his creative expertise to other designers, decided to go further and create his own line. and so, after more than four decades of experience, paloma barceló was born in 2002.  lujo  calzado  lujo diseno  moda diseño\n"
     ]
    }
   ],
   "source": [
    "print(type(df['text'][0]))\n",
    "print(df['text'][0])"
   ]
  },
  {
   "cell_type": "markdown",
   "metadata": {},
   "source": [
    "## Load raw data"
   ]
  },
  {
   "cell_type": "code",
   "execution_count": 16,
   "metadata": {},
   "outputs": [],
   "source": [
    "raw_df = pd.read_csv(\"../../data/raw/internship_challenge - dataset.csv\")"
   ]
  },
  {
   "cell_type": "markdown",
   "metadata": {},
   "source": [
    "### compare **specialities_x** and **keywords** , ensuring that they were added to 'text'"
   ]
  },
  {
   "cell_type": "code",
   "execution_count": 23,
   "metadata": {},
   "outputs": [
    {
     "name": "stdout",
     "output_type": "stream",
     "text": [
      "Last sentence added to text:   lujo  calzado  lujo diseno  moda diseño\n",
      "keywords column was : ['diseno', 'calzado', 'moda', 'lujo']\n",
      "specialities_x column was : Diseño, Calzado, Moda, and Lujo\n"
     ]
    }
   ],
   "source": [
    "keywords = raw_df['keywords'][0]\n",
    "specialities_x = raw_df['specialities_x'][0]\n",
    "\n",
    "print(f'Last sentence added to text: {df[\"text\"][0].split(\".\")[-1]}')\n",
    "print(f\"keywords column was : {keywords}\")\n",
    "print(f\"specialities_x column was : {specialities_x}\")"
   ]
  }
 ],
 "metadata": {
  "kernelspec": {
   "display_name": "venv",
   "language": "python",
   "name": "python3"
  },
  "language_info": {
   "codemirror_mode": {
    "name": "ipython",
    "version": 3
   },
   "file_extension": ".py",
   "mimetype": "text/x-python",
   "name": "python",
   "nbconvert_exporter": "python",
   "pygments_lexer": "ipython3",
   "version": "3.11.2"
  }
 },
 "nbformat": 4,
 "nbformat_minor": 2
}
